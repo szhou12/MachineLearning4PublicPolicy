{
 "cells": [
  {
   "cell_type": "code",
   "execution_count": 1,
   "metadata": {},
   "outputs": [],
   "source": [
    "import numpy as np\n",
    "import pandas as pd\n",
    "import matplotlib.pyplot as plt"
   ]
  },
  {
   "cell_type": "code",
   "execution_count": 2,
   "metadata": {},
   "outputs": [],
   "source": [
    "graf_raw = pd.read_csv(\"data/311_Service_Requests_-_Graffiti_Removal.csv\")\n",
    "build_raw = pd.read_csv(\"data/311_Service_Requests_-_Vacant_and_Abandoned_Buildings_Reported.csv\")\n",
    "light_raw = pd.read_csv(\"data/311_Service_Requests_-_Alley_Lights_Out.csv\")\n",
    "commarea_raw = pd.read_csv(\"data/CommAreas.csv\")"
   ]
  },
  {
   "cell_type": "code",
   "execution_count": 7,
   "metadata": {},
   "outputs": [],
   "source": [
    "graf_new = graf_raw[graf_raw['Status'].isin(['Completed', 'Open'])]\n",
    "light_new = light_raw[light_raw['Status'].isin(['Completed', 'Open'])]\n",
    "build_new = build_raw.dropna(subset=['ADDRESS STREET NUMBER', \\\n",
    "                                 'ADDRESS STREET DIRECTION',\\\n",
    "                                 'ADDRESS STREET NAME', \\\n",
    "                                 'ADDRESS STREET SUFFIX'])"
   ]
  },
  {
   "cell_type": "code",
   "execution_count": 11,
   "metadata": {},
   "outputs": [],
   "source": [
    "graf = graf_new[['Service Request Number', 'Type of Service Request',\\\n",
    "                 'Street Address','Community Area']]\n",
    "light = light_new[['Service Request Number', 'Type of Service Request',\\\n",
    "                 'Street Address','Community Area']]"
   ]
  },
  {
   "cell_type": "code",
   "execution_count": 20,
   "metadata": {},
   "outputs": [],
   "source": [
    "build_broken_address = build_new[['ADDRESS STREET NUMBER', 'ADDRESS STREET DIRECTION','ADDRESS STREET NAME', 'ADDRESS STREET SUFFIX']]\n",
    "seam = build_broken_address.astype(str).apply(lambda x: ' '.join(x), axis=1)\n",
    "build_select = pd.concat([build_new, seam], axis=1)\n",
    "build_select.rename(columns={0:'Street Address'},inplace=True)\n",
    "build = build_select[['SERVICE REQUEST NUMBER', 'SERVICE REQUEST TYPE',\\\n",
    "                  'Street Address', 'Community Area']]"
   ]
  },
  {
   "cell_type": "code",
   "execution_count": 101,
   "metadata": {},
   "outputs": [],
   "source": [
    "build.columns = graf.columns\n",
    "light.columns = graf.columns\n",
    "combinedf = pd.concat([graf, build, light], ignore_index=True)"
   ]
  },
  {
   "cell_type": "code",
   "execution_count": 102,
   "metadata": {},
   "outputs": [],
   "source": [
    "commarea = commarea_raw[['AREA_NUMBE', 'COMMUNITY']].rename(columns={'AREA_NUMBE':'Community Area', \\\n",
    "                                                                     'COMMUNITY':'Neighborhood'})\n",
    "combinedf_area = pd.merge(combinedf, commarea, how='right', on='Community Area')"
   ]
  },
  {
   "cell_type": "code",
   "execution_count": 103,
   "metadata": {},
   "outputs": [
    {
     "data": {
      "text/plain": [
       "Type of Service Request\n",
       "Alley Light Out              0.150538\n",
       "Graffiti Removal             0.838710\n",
       "Vacant/Abandoned Building    0.010753\n",
       "dtype: float64"
      ]
     },
     "execution_count": 103,
     "metadata": {},
     "output_type": "execute_result"
    }
   ],
   "source": [
    "st = combinedf_area[combinedf_area['Street Address'].str.contains('[2-4][0-9]{3} W ROOSEVELT')]\n",
    "type_on_st = st.groupby('Type of Service Request').size()/len(st)\n",
    "type_on_st"
   ]
  },
  {
   "cell_type": "code",
   "execution_count": 104,
   "metadata": {},
   "outputs": [],
   "source": [
    "temp = combinedf_area[combinedf_area['Type of Service Request']=='Graffiti Removal']\n",
    "graffiti_by_area = temp.groupby('Neighborhood').size()/len(temp)"
   ]
  },
  {
   "cell_type": "code",
   "execution_count": 107,
   "metadata": {},
   "outputs": [
    {
     "data": {
      "text/plain": [
       "0.016172805317086678"
      ]
     },
     "execution_count": 107,
     "metadata": {},
     "output_type": "execute_result"
    }
   ],
   "source": [
    "graffiti_by_area['UPTOWN']"
   ]
  },
  {
   "cell_type": "code",
   "execution_count": 108,
   "metadata": {},
   "outputs": [
    {
     "data": {
      "text/plain": [
       "0.006997138373488415"
      ]
     },
     "execution_count": 108,
     "metadata": {},
     "output_type": "execute_result"
    }
   ],
   "source": [
    "graffiti_by_area['GARFIELD RIDGE']"
   ]
  },
  {
   "cell_type": "code",
   "execution_count": null,
   "metadata": {},
   "outputs": [],
   "source": []
  }
 ],
 "metadata": {
  "kernelspec": {
   "display_name": "Python 3",
   "language": "python",
   "name": "python3"
  },
  "language_info": {
   "codemirror_mode": {
    "name": "ipython",
    "version": 3
   },
   "file_extension": ".py",
   "mimetype": "text/x-python",
   "name": "python",
   "nbconvert_exporter": "python",
   "pygments_lexer": "ipython3",
   "version": "3.6.4"
  }
 },
 "nbformat": 4,
 "nbformat_minor": 2
}
