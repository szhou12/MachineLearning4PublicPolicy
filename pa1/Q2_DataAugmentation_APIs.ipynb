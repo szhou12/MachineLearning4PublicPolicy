{
 "cells": [
  {
   "cell_type": "code",
   "execution_count": 11,
   "metadata": {},
   "outputs": [],
   "source": [
    "import numpy as np\n",
    "import pandas as pd\n",
    "import requests"
   ]
  },
  {
   "cell_type": "code",
   "execution_count": 12,
   "metadata": {},
   "outputs": [],
   "source": [
    "build = pd.read_csv(\"data/311_Service_Requests_-_Vacant_and_Abandoned_Buildings_Reported.csv\")\n",
    "light = pd.read_csv(\"data/311_Service_Requests_-_Alley_Lights_Out.csv\")"
   ]
  },
  {
   "cell_type": "code",
   "execution_count": 135,
   "metadata": {},
   "outputs": [
    {
     "data": {
      "text/plain": [
       "[['B01003_001E',\n",
       "  'B02001_002E',\n",
       "  'B05003_002E',\n",
       "  'B19101_001E',\n",
       "  'B25010_001E',\n",
       "  'state',\n",
       "  'county',\n",
       "  'tract'],\n",
       " ['6180', '5065', '3404', '1589', '2.44', '17', '031', '550100']]"
      ]
     },
     "execution_count": 135,
     "metadata": {},
     "output_type": "execute_result"
    }
   ],
   "source": [
    "url = 'https://api.census.gov/data/2016/acs/acs1/profile?get=DP05_0001E,DP05_0032E,DP05_0002E,DP03_0063E,DP02_0016E&for=tract:700401&in=state:17+county:031&key=9d0f16e1040555cc09541467125125184391eed1'\n",
    "\n",
    "url = 'https://api.census.gov/data/2015/acs5?get=B01003_001E,B02001_002E,B05003_002E,B19119_001E,B25010_001E&for=block:1030&in=state:17%20county:031%20tract:550100&key=9d0f16e1040555cc09541467125125184391eed1'\n",
    "\n",
    "url ='https://api.census.gov/data/2015/acs5?get=B01003_001E,B02001_002E,B05003_002E,B19101_001E,B25010_001E&for=tract:550100&in=state:17%20county:031&key=9d0f16e1040555cc09541467125125184391eed1'\n",
    "r = requests.get(url)\n",
    "rv = r.json()\n",
    "rv"
   ]
  },
  {
   "cell_type": "code",
   "execution_count": 119,
   "metadata": {},
   "outputs": [
    {
     "data": {
      "text/plain": [
       "{'result': {'addressMatches': [{'addressComponents': {'city': 'CHICAGO',\n",
       "     'fromAddress': '13199',\n",
       "     'preDirection': 'S',\n",
       "     'preQualifier': '',\n",
       "     'preType': '',\n",
       "     'state': 'IL',\n",
       "     'streetName': 'Green Bay',\n",
       "     'suffixDirection': '',\n",
       "     'suffixQualifier': '',\n",
       "     'suffixType': 'Ave',\n",
       "     'toAddress': '13101',\n",
       "     'zip': '60633'},\n",
       "    'coordinates': {'x': -87.54108, 'y': 41.657036},\n",
       "    'geographies': {'Census Blocks': [{'AREALAND': 9777,\n",
       "       'AREAWATER': 0,\n",
       "       'BASENAME': '1030',\n",
       "       'BLKGRP': '1',\n",
       "       'BLOCK': '1030',\n",
       "       'CENTLAT': '+41.6563762',\n",
       "       'CENTLON': '-087.5407868',\n",
       "       'COUNTY': '031',\n",
       "       'FUNCSTAT': 'S',\n",
       "       'GEOID': '170315501001030',\n",
       "       'HU100': 15,\n",
       "       'INTPTLAT': '+41.6563762',\n",
       "       'INTPTLON': '-087.5407868',\n",
       "       'LSADC': 'BK',\n",
       "       'LWBLKTYP': 'L',\n",
       "       'MTFCC': 'G5040',\n",
       "       'NAME': 'Block 1030',\n",
       "       'OBJECTID': 2785791,\n",
       "       'OID': 210404038826472,\n",
       "       'POP100': 32,\n",
       "       'STATE': '17',\n",
       "       'SUFFIX': '',\n",
       "       'TRACT': '550100',\n",
       "       'UR': ''}]},\n",
       "    'matchedAddress': '13105 S Green Bay Ave, CHICAGO, IL, 60633',\n",
       "    'tigerLine': {'side': 'R', 'tigerLineId': '111782777'}}],\n",
       "  'input': {'address': {'city': 'Chicago',\n",
       "    'state': 'IL',\n",
       "    'street': '13105 S GREEN BAY AVE'},\n",
       "   'benchmark': {'benchmarkDescription': 'Public Address Ranges - Census 2010 Benchmark',\n",
       "    'benchmarkName': 'Public_AR_Census2010',\n",
       "    'id': '9',\n",
       "    'isDefault': False},\n",
       "   'vintage': {'id': '910',\n",
       "    'isDefault': True,\n",
       "    'vintageDescription': 'Census2010 Vintage - Census2010 Benchmark',\n",
       "    'vintageName': 'Census2010_Census2010'}}}}"
      ]
     },
     "execution_count": 119,
     "metadata": {},
     "output_type": "execute_result"
    }
   ],
   "source": [
    "url='https://geocoding.geo.census.gov/geocoder/geographies/address?street=13105+S+GREEN+BAY+AVE&city=Chicago&state=IL&benchmark=Public_AR_Census2010&vintage=Census2010_Census2010&layers=14&format=json'\n",
    "r = requests.get(url)\n",
    "rv = r.json()\n",
    "rv['result']['addressMatches'][0]['geographies']['Census Blocks'][0]['TRACT']\n",
    "rv"
   ]
  },
  {
   "cell_type": "code",
   "execution_count": 112,
   "metadata": {},
   "outputs": [
    {
     "data": {
      "text/plain": [
       "['3749+W+82ND+PL',\n",
       " '6349+S+SACRAMENTO+AVE',\n",
       " '13105+S+GREEN+BAY+AVE',\n",
       " '12634+S+MANISTEE+AVE',\n",
       " '7118+S+INDIANA+AVE',\n",
       " '8429+S+WOOD+ST',\n",
       " '7040+W+64TH+PL',\n",
       " '10426+S+CALHOUN+AVE',\n",
       " '6115+S+ST+LAWRENCE+AVE',\n",
       " '5251+N+LAPORTE+AVE']"
      ]
     },
     "execution_count": 112,
     "metadata": {},
     "output_type": "execute_result"
    }
   ],
   "source": [
    "light_address = light['Street Address'].tolist()\n",
    "light_address_upate = []\n",
    "for i in light_address:\n",
    "    temp = i.split()\n",
    "    i = '+'.join(temp)\n",
    "    light_address_upate.append(i)\n",
    "light_address_upate[-10:]"
   ]
  },
  {
   "cell_type": "code",
   "execution_count": 126,
   "metadata": {},
   "outputs": [],
   "source": [
    "light_by_tract = []\n",
    "for street in light_address_upate[-10:]:\n",
    "    url='https://geocoding.geo.census.gov/geocoder/geographies/address?street={}&city=Chicago&state=IL&benchmark=Public_AR_Census2010&vintage=Census2010_Census2010&layers=14&format=json'.format(street)\n",
    "    r = requests.get(url)\n",
    "    rv = r.json()\n",
    "    county = rv['result']['addressMatches'][0]['geographies']['Census Blocks'][0]['COUNTY']\n",
    "    tract = rv['result']['addressMatches'][0]['geographies']['Census Blocks'][0]['TRACT']\n",
    "    light_by_tract.append((county, tract))"
   ]
  },
  {
   "cell_type": "code",
   "execution_count": 127,
   "metadata": {},
   "outputs": [
    {
     "data": {
      "text/plain": [
       "[('031', '700401'),\n",
       " ('031', '660600'),\n",
       " ('031', '550100'),\n",
       " ('031', '550200'),\n",
       " ('031', '691000'),\n",
       " ('031', '711200'),\n",
       " ('031', '640500'),\n",
       " ('031', '838800'),\n",
       " ('031', '420500'),\n",
       " ('031', '120400')]"
      ]
     },
     "execution_count": 127,
     "metadata": {},
     "output_type": "execute_result"
    }
   ],
   "source": [
    "light_by_tract"
   ]
  },
  {
   "cell_type": "code",
   "execution_count": 148,
   "metadata": {},
   "outputs": [
    {
     "data": {
      "text/html": [
       "<div>\n",
       "<style scoped>\n",
       "    .dataframe tbody tr th:only-of-type {\n",
       "        vertical-align: middle;\n",
       "    }\n",
       "\n",
       "    .dataframe tbody tr th {\n",
       "        vertical-align: top;\n",
       "    }\n",
       "\n",
       "    .dataframe thead th {\n",
       "        text-align: right;\n",
       "    }\n",
       "</style>\n",
       "<table border=\"1\" class=\"dataframe\">\n",
       "  <thead>\n",
       "    <tr style=\"text-align: right;\">\n",
       "      <th></th>\n",
       "      <th>Total Population</th>\n",
       "      <th>White</th>\n",
       "      <th>Male</th>\n",
       "      <th>Median Family Income</th>\n",
       "      <th>Average Household Size</th>\n",
       "    </tr>\n",
       "  </thead>\n",
       "  <tbody>\n",
       "    <tr>\n",
       "      <th>0</th>\n",
       "      <td>6153</td>\n",
       "      <td>1332</td>\n",
       "      <td>3181</td>\n",
       "      <td>77121</td>\n",
       "      <td>3.34</td>\n",
       "    </tr>\n",
       "    <tr>\n",
       "      <th>1</th>\n",
       "      <td>6046</td>\n",
       "      <td>823</td>\n",
       "      <td>3048</td>\n",
       "      <td>33454</td>\n",
       "      <td>3.13</td>\n",
       "    </tr>\n",
       "    <tr>\n",
       "      <th>2</th>\n",
       "      <td>6180</td>\n",
       "      <td>5065</td>\n",
       "      <td>3404</td>\n",
       "      <td>55301</td>\n",
       "      <td>2.44</td>\n",
       "    </tr>\n",
       "    <tr>\n",
       "      <th>3</th>\n",
       "      <td>2772</td>\n",
       "      <td>2561</td>\n",
       "      <td>1393</td>\n",
       "      <td>88088</td>\n",
       "      <td>2.74</td>\n",
       "    </tr>\n",
       "    <tr>\n",
       "      <th>4</th>\n",
       "      <td>2599</td>\n",
       "      <td>36</td>\n",
       "      <td>1135</td>\n",
       "      <td>51544</td>\n",
       "      <td>2.44</td>\n",
       "    </tr>\n",
       "    <tr>\n",
       "      <th>5</th>\n",
       "      <td>5021</td>\n",
       "      <td>0</td>\n",
       "      <td>2060</td>\n",
       "      <td>52011</td>\n",
       "      <td>2.63</td>\n",
       "    </tr>\n",
       "    <tr>\n",
       "      <th>6</th>\n",
       "      <td>3389</td>\n",
       "      <td>2797</td>\n",
       "      <td>1580</td>\n",
       "      <td>77886</td>\n",
       "      <td>2.45</td>\n",
       "    </tr>\n",
       "    <tr>\n",
       "      <th>7</th>\n",
       "      <td>3525</td>\n",
       "      <td>1391</td>\n",
       "      <td>1575</td>\n",
       "      <td>19933</td>\n",
       "      <td>3.13</td>\n",
       "    </tr>\n",
       "    <tr>\n",
       "      <th>8</th>\n",
       "      <td>1963</td>\n",
       "      <td>12</td>\n",
       "      <td>784</td>\n",
       "      <td>40929</td>\n",
       "      <td>2.25</td>\n",
       "    </tr>\n",
       "    <tr>\n",
       "      <th>9</th>\n",
       "      <td>3671</td>\n",
       "      <td>2418</td>\n",
       "      <td>1696</td>\n",
       "      <td>103864</td>\n",
       "      <td>2.91</td>\n",
       "    </tr>\n",
       "  </tbody>\n",
       "</table>\n",
       "</div>"
      ],
      "text/plain": [
       "  Total Population White  Male  Median Family Income Average Household Size\n",
       "0             6153  1332  3181                 77121                   3.34\n",
       "1             6046   823  3048                 33454                   3.13\n",
       "2             6180  5065  3404                 55301                   2.44\n",
       "3             2772  2561  1393                 88088                   2.74\n",
       "4             2599    36  1135                 51544                   2.44\n",
       "5             5021     0  2060                 52011                   2.63\n",
       "6             3389  2797  1580                 77886                   2.45\n",
       "7             3525  1391  1575                 19933                   3.13\n",
       "8             1963    12   784                 40929                   2.25\n",
       "9             3671  2418  1696                103864                   2.91"
      ]
     },
     "execution_count": 148,
     "metadata": {},
     "output_type": "execute_result"
    }
   ],
   "source": [
    "colnames = ('Total Population', 'White', 'Male', ' Median Family Income', 'Average Household Size')\n",
    "acs_df = pd.DataFrame(columns=colnames)\n",
    "for i in light_by_tract:\n",
    "    county = i[0]\n",
    "    tract = i[1]\n",
    "    url ='https://api.census.gov/data/2015/acs5?get=B01003_001E,B02001_002E,B05003_002E,B19113_001E,B25010_001E&for=tract:{}&in=state:17%20county:{}&key=9d0f16e1040555cc09541467125125184391eed1'.format(tract, county)\n",
    "    r = requests.get(url)\n",
    "    rv = r.json()\n",
    "    values = [rv[1][:5]]\n",
    "    df_temp = pd.DataFrame(list(values), columns=colnames)\n",
    "    acs_df = acs_df.append(df_temp, ignore_index=True)\n",
    "acs_df\n"
   ]
  },
  {
   "cell_type": "code",
   "execution_count": null,
   "metadata": {},
   "outputs": [],
   "source": []
  }
 ],
 "metadata": {
  "celltoolbar": "Raw Cell Format",
  "kernelspec": {
   "display_name": "Python 3",
   "language": "python",
   "name": "python3"
  },
  "language_info": {
   "codemirror_mode": {
    "name": "ipython",
    "version": 3
   },
   "file_extension": ".py",
   "mimetype": "text/x-python",
   "name": "python",
   "nbconvert_exporter": "python",
   "pygments_lexer": "ipython3",
   "version": "3.6.4"
  }
 },
 "nbformat": 4,
 "nbformat_minor": 2
}
