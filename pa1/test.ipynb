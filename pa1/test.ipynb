{
 "cells": [
  {
   "cell_type": "code",
   "execution_count": 2,
   "metadata": {},
   "outputs": [
    {
     "name": "stdout",
     "output_type": "stream",
     "text": [
      "Solving environment: done\n",
      "\n",
      "## Package Plan ##\n",
      "\n",
      "  environment location: //anaconda/envs/nav-env\n",
      "\n",
      "  added / updated specs: \n",
      "    - numpy\n",
      "\n",
      "\n",
      "The following packages will be downloaded:\n",
      "\n",
      "    package                    |            build\n",
      "    ---------------------------|-----------------\n",
      "    numpy-1.14.2               |   py36ha9ae307_1         4.0 MB\n",
      "    mkl_random-1.0.1           |   py36h78cc56f_0         346 KB\n",
      "    intel-openmp-2018.0.0      |                8         904 KB\n",
      "    mkl_fft-1.0.1              |   py36h917ab60_0         125 KB\n",
      "    mkl-2018.0.2               |                1       145.9 MB\n",
      "    ------------------------------------------------------------\n",
      "                                           Total:       151.2 MB\n",
      "\n",
      "The following NEW packages will be INSTALLED:\n",
      "\n",
      "    intel-openmp: 2018.0.0-8           \n",
      "    libgfortran:  3.0.1-h93005f0_2     \n",
      "    mkl:          2018.0.2-1           \n",
      "    mkl_fft:      1.0.1-py36h917ab60_0 \n",
      "    mkl_random:   1.0.1-py36h78cc56f_0 \n",
      "    numpy:        1.14.2-py36ha9ae307_1\n",
      "\n",
      "\n",
      "Downloading and Extracting Packages\n",
      "numpy 1.14.2: ########################################################## | 100% \n",
      "mkl_random 1.0.1: ###################################################### | 100% \n",
      "intel-openmp 2018.0.0: ################################################# | 100% \n",
      "mkl_fft 1.0.1: ######################################################### | 100% \n",
      "mkl 2018.0.2: ########################################################## | 100% \n",
      "Preparing transaction: done\n",
      "Verifying transaction: done\n",
      "Executing transaction: done\n"
     ]
    }
   ],
   "source": [
    "# Install a conda package in the current Jupyter kernel\n",
    "import sys\n",
    "!conda install --yes --prefix {sys.prefix} numpy"
   ]
  },
  {
   "cell_type": "code",
   "execution_count": 3,
   "metadata": {},
   "outputs": [
    {
     "name": "stdout",
     "output_type": "stream",
     "text": [
      "Solving environment: done\n",
      "\n",
      "## Package Plan ##\n",
      "\n",
      "  environment location: //anaconda/envs/nav-env\n",
      "\n",
      "  added / updated specs: \n",
      "    - pandas\n",
      "\n",
      "\n",
      "The following packages will be downloaded:\n",
      "\n",
      "    package                    |            build\n",
      "    ---------------------------|-----------------\n",
      "    pandas-0.22.0              |   py36h0a44026_0        10.0 MB\n",
      "\n",
      "The following NEW packages will be INSTALLED:\n",
      "\n",
      "    pandas: 0.22.0-py36h0a44026_0\n",
      "\n",
      "\n",
      "Downloading and Extracting Packages\n",
      "pandas 0.22.0: ######################################################### | 100% \n",
      "Preparing transaction: done\n",
      "Verifying transaction: done\n",
      "Executing transaction: done\n"
     ]
    }
   ],
   "source": [
    "!conda install --yes --prefix {sys.prefix} "
   ]
  },
  {
   "cell_type": "code",
   "execution_count": 4,
   "metadata": {},
   "outputs": [
    {
     "name": "stdout",
     "output_type": "stream",
     "text": [
      "Solving environment: done\n",
      "\n",
      "## Package Plan ##\n",
      "\n",
      "  environment location: //anaconda/envs/nav-env\n",
      "\n",
      "  added / updated specs: \n",
      "    - matplotlib\n",
      "\n",
      "\n",
      "The following packages will be downloaded:\n",
      "\n",
      "    package                    |            build\n",
      "    ---------------------------|-----------------\n",
      "    pyparsing-2.2.0            |   py36hb281f35_0          96 KB\n",
      "    matplotlib-2.2.2           |   py36ha7267d0_0         6.7 MB\n",
      "    cycler-0.10.0              |   py36hfc81398_0          13 KB\n",
      "    kiwisolver-1.0.1           |   py36h792292d_0          56 KB\n",
      "    ------------------------------------------------------------\n",
      "                                           Total:         6.8 MB\n",
      "\n",
      "The following NEW packages will be INSTALLED:\n",
      "\n",
      "    cycler:     0.10.0-py36hfc81398_0\n",
      "    kiwisolver: 1.0.1-py36h792292d_0 \n",
      "    matplotlib: 2.2.2-py36ha7267d0_0 \n",
      "    pyparsing:  2.2.0-py36hb281f35_0 \n",
      "\n",
      "\n",
      "Downloading and Extracting Packages\n",
      "pyparsing 2.2.0: ####################################################### | 100% \n",
      "matplotlib 2.2.2: ###################################################### | 100% \n",
      "cycler 0.10.0: ######################################################### | 100% \n",
      "kiwisolver 1.0.1: ###################################################### | 100% \n",
      "Preparing transaction: done\n",
      "Verifying transaction: done\n",
      "Executing transaction: done\n"
     ]
    }
   ],
   "source": [
    "!conda install --yes --prefix {sys.prefix} matplotlib"
   ]
  },
  {
   "cell_type": "code",
   "execution_count": 5,
   "metadata": {},
   "outputs": [
    {
     "name": "stdout",
     "output_type": "stream",
     "text": [
      "Solving environment: done\n",
      "\n",
      "## Package Plan ##\n",
      "\n",
      "  environment location: //anaconda/envs/nav-env\n",
      "\n",
      "  added / updated specs: \n",
      "    - scikit-learn\n",
      "\n",
      "\n",
      "The following packages will be downloaded:\n",
      "\n",
      "    package                    |            build\n",
      "    ---------------------------|-----------------\n",
      "    scipy-1.0.0                |   py36h1de22e9_0        15.0 MB\n",
      "    scikit-learn-0.19.1        |   py36hffbff8c_0         4.8 MB\n",
      "    ------------------------------------------------------------\n",
      "                                           Total:        19.8 MB\n",
      "\n",
      "The following NEW packages will be INSTALLED:\n",
      "\n",
      "    scikit-learn: 0.19.1-py36hffbff8c_0\n",
      "    scipy:        1.0.0-py36h1de22e9_0 \n",
      "\n",
      "\n",
      "Downloading and Extracting Packages\n",
      "scipy 1.0.0: ########################################################### | 100% \n",
      "scikit-learn 0.19.1: ################################################### | 100% \n",
      "Preparing transaction: done\n",
      "Verifying transaction: done\n",
      "Executing transaction: done\n"
     ]
    }
   ],
   "source": [
    "!conda install --yes --prefix {sys.prefix} scikit-learn"
   ]
  },
  {
   "cell_type": "code",
   "execution_count": null,
   "metadata": {},
   "outputs": [],
   "source": []
  }
 ],
 "metadata": {
  "kernelspec": {
   "display_name": "Python 3",
   "language": "python",
   "name": "python3"
  },
  "language_info": {
   "codemirror_mode": {
    "name": "ipython",
    "version": 3
   },
   "file_extension": ".py",
   "mimetype": "text/x-python",
   "name": "python",
   "nbconvert_exporter": "python",
   "pygments_lexer": "ipython3",
   "version": "3.6.4"
  }
 },
 "nbformat": 4,
 "nbformat_minor": 2
}
